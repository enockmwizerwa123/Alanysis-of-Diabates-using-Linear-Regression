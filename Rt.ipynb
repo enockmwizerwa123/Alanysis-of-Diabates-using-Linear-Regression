{
  "nbformat": 4,
  "nbformat_minor": 0,
  "metadata": {
    "colab": {
      "name": "Rt.ipynb",
      "provenance": [],
      "authorship_tag": "ABX9TyMjTAxuYa9t/s13zffbPd7G",
      "include_colab_link": true
    },
    "kernelspec": {
      "name": "python3",
      "display_name": "Python 3"
    },
    "language_info": {
      "name": "python"
    }
  },
  "cells": [
    {
      "cell_type": "markdown",
      "metadata": {
        "id": "view-in-github",
        "colab_type": "text"
      },
      "source": [
        "<a href=\"https://colab.research.google.com/github/enockmwizerwa123/Alanysis-of-Diabates-using-Linear-Regression/blob/main/Rt.ipynb\" target=\"_parent\"><img src=\"https://colab.research.google.com/assets/colab-badge.svg\" alt=\"Open In Colab\"/></a>"
      ]
    },
    {
      "cell_type": "code",
      "source": [
        "!pip install epyestim"
      ],
      "metadata": {
        "colab": {
          "base_uri": "https://localhost:8080/"
        },
        "id": "FrAPs6bppehe",
        "outputId": "f648cefb-5862-4769-f47c-c564fbac5841"
      },
      "execution_count": null,
      "outputs": [
        {
          "output_type": "stream",
          "name": "stdout",
          "text": [
            "Looking in indexes: https://pypi.org/simple, https://us-python.pkg.dev/colab-wheels/public/simple/\n",
            "Collecting epyestim\n",
            "  Downloading epyestim-0.1-py3-none-any.whl (10 kB)\n",
            "Requirement already satisfied: pandas in /usr/local/lib/python3.7/dist-packages (from epyestim) (1.3.5)\n",
            "Requirement already satisfied: scipy in /usr/local/lib/python3.7/dist-packages (from epyestim) (1.7.3)\n",
            "Requirement already satisfied: numpy in /usr/local/lib/python3.7/dist-packages (from epyestim) (1.21.6)\n",
            "Requirement already satisfied: statsmodels in /usr/local/lib/python3.7/dist-packages (from epyestim) (0.12.2)\n",
            "Requirement already satisfied: python-dateutil>=2.7.3 in /usr/local/lib/python3.7/dist-packages (from pandas->epyestim) (2.8.2)\n",
            "Requirement already satisfied: pytz>=2017.3 in /usr/local/lib/python3.7/dist-packages (from pandas->epyestim) (2022.2.1)\n",
            "Requirement already satisfied: six>=1.5 in /usr/local/lib/python3.7/dist-packages (from python-dateutil>=2.7.3->pandas->epyestim) (1.15.0)\n",
            "Requirement already satisfied: patsy>=0.5 in /usr/local/lib/python3.7/dist-packages (from statsmodels->epyestim) (0.5.2)\n",
            "Installing collected packages: epyestim\n",
            "Successfully installed epyestim-0.1\n"
          ]
        }
      ]
    },
    {
      "cell_type": "code",
      "execution_count": null,
      "metadata": {
        "id": "X6Ai_0hAyybG"
      },
      "outputs": [],
      "source": [
        "import os\n",
        "\n",
        "import numpy as np\n",
        "import pandas as pd\n",
        "import matplotlib as mpl\n",
        "import matplotlib.pyplot as plt\n",
        "plt.style.use('seaborn-white')\n",
        "\n",
        "%matplotlib inline\n",
        "\n",
        "from scipy.stats import gamma, poisson\n",
        "\n",
        "import epyestim\n",
        "import epyestim.covid19 as covid19"
      ]
    },
    {
      "cell_type": "code",
      "source": [
        "ch_cases = pd.read_csv(\n",
        "    os.path.join('..', 'data', '/content/Data13.csv'),\n",
        "    parse_dates=['Date']\n",
        ").set_index('Date')['Log_TB_Case']\n",
        "\n",
        "ch_cases"
      ],
      "metadata": {
        "colab": {
          "base_uri": "https://localhost:8080/"
        },
        "id": "rsMP-wZY8wWa",
        "outputId": "d8c2fd0f-2273-4041-8d70-fd115d67524d"
      },
      "execution_count": null,
      "outputs": [
        {
          "output_type": "execute_result",
          "data": {
            "text/plain": [
              "Date\n",
              "1990-01-01    4.279\n",
              "1990-01-02    4.255\n",
              "1990-01-03    4.230\n",
              "1990-01-04    4.204\n",
              "1990-01-05    4.176\n",
              "              ...  \n",
              "1990-04-20    5.380\n",
              "1990-04-21    5.393\n",
              "1990-04-22    5.405\n",
              "1990-04-23    5.418\n",
              "1990-04-24    5.431\n",
              "Name: Log_TB_Case, Length: 114, dtype: float64"
            ]
          },
          "metadata": {},
          "execution_count": 30
        }
      ]
    },
    {
      "cell_type": "code",
      "source": [
        "si_distrb = covid19.generate_standard_si_distribution()\n",
        "delay_distrb = covid19.generate_standard_infection_to_reporting_distribution()"
      ],
      "metadata": {
        "id": "CPBegB1p8wRb"
      },
      "execution_count": null,
      "outputs": []
    },
    {
      "cell_type": "code",
      "source": [
        "fig, axs = plt.subplots(1, 2, figsize=(12,3))\n",
        "\n",
        "axs[0].bar(range(len(si_distrb)), si_distrb, width=1)\n",
        "axs[1].bar(range(len(delay_distrb)), delay_distrb, width=1)\n",
        "\n",
        "axs[0].set_title('Default serial interval distribution')\n",
        "axs[1].set_title('Default infection-to-reporting delay distribution')\n",
        "plt.show()"
      ],
      "metadata": {
        "colab": {
          "base_uri": "https://localhost:8080/",
          "height": 222
        },
        "id": "na0IYh5G8wPb",
        "outputId": "b3b4ca2c-e946-4da7-f159-c137a2106fac"
      },
      "execution_count": null,
      "outputs": [
        {
          "output_type": "display_data",
          "data": {
            "text/plain": [
              "<Figure size 864x216 with 2 Axes>"
            ],
            "image/png": "[encoded data removed]"
          },
          "metadata": {
            "needs_background": "light"
          }
        }
      ]
    },
    {
      "cell_type": "code",
      "source": [
        "my_continuous_distrb = gamma(a=5, scale=2)\n",
        "my_discrete_distrb = epyestim.discrete_distrb(my_continuous_distrb)\n",
        "\n",
        "plt.bar(range(len(my_discrete_distrb)), my_discrete_distrb, width=1)\n",
        "plt.show()"
      ],
      "metadata": {
        "colab": {
          "base_uri": "https://localhost:8080/",
          "height": 262
        },
        "id": "OoNMTAVj8wJJ",
        "outputId": "421980d9-c19d-467e-bf23-3d22de046482"
      },
      "execution_count": null,
      "outputs": [
        {
          "output_type": "display_data",
          "data": {
            "text/plain": [
              "<Figure size 432x288 with 1 Axes>"
            ],
            "image/png": "[encoded data removed]"
          },
          "metadata": {
            "needs_background": "light"
          }
        }
      ]
    },
    {
      "cell_type": "code",
      "source": [
        "ch_time_varying_r = covid19.r_covid(ch_cases)\n",
        "\n",
        "ch_time_varying_r.tail()"
      ],
      "metadata": {
        "colab": {
          "base_uri": "https://localhost:8080/",
          "height": 206
        },
        "id": "yKWE6IZC8wFi",
        "outputId": "80bac9c3-6403-49b0-cbbc-38365705516b"
      },
      "execution_count": null,
      "outputs": [
        {
          "output_type": "execute_result",
          "data": {
            "text/plain": [
              "            cases    R_mean     R_var    Q0.025      Q0.5    Q0.975\n",
              "1990-04-10    5.0  1.122459  0.070711  0.665437  1.103027  1.696944\n",
              "1990-04-11    5.0  1.126086  0.071794  0.667466  1.106502  1.696108\n",
              "1990-04-12    5.0  1.122784  0.071304  0.667514  1.099467  1.706728\n",
              "1990-04-13    5.0  1.128821  0.070410  0.665494  1.106984  1.711171\n",
              "1990-04-14    5.0  1.143374  0.070655  0.666634  1.122597  1.710264"
            ],
            "text/html": [
              "\n",
              "  <div id=\"df-2b99f990-a44e-4595-bf7b-a36838872987\">\n",
              "    <div class=\"colab-df-container\">\n",
              "      <div>\n",
              "<style scoped>\n",
              "    .dataframe tbody tr th:only-of-type {\n",
              "        vertical-align: middle;\n",
              "    }\n",
              "\n",
              "    .dataframe tbody tr th {\n",
              "        vertical-align: top;\n",
              "    }\n",
              "\n",
              "    .dataframe thead th {\n",
              "        text-align: right;\n",
              "    }\n",
              "</style>\n",
              "<table border=\"1\" class=\"dataframe\">\n",
              "  <thead>\n",
              "    <tr style=\"text-align: right;\">\n",
              "      <th></th>\n",
              "      <th>cases</th>\n",
              "      <th>R_mean</th>\n",
              "      <th>R_var</th>\n",
              "      <th>Q0.025</th>\n",
              "      <th>Q0.5</th>\n",
              "      <th>Q0.975</th>\n",
              "    </tr>\n",
              "  </thead>\n",
              "  <tbody>\n",
              "    <tr>\n",
              "      <th>1990-04-10</th>\n",
              "      <td>5.0</td>\n",
              "      <td>1.122459</td>\n",
              "      <td>0.070711</td>\n",
              "      <td>0.665437</td>\n",
              "      <td>1.103027</td>\n",
              "      <td>1.696944</td>\n",
              "    </tr>\n",
              "    <tr>\n",
              "      <th>1990-04-11</th>\n",
              "      <td>5.0</td>\n",
              "      <td>1.126086</td>\n",
              "      <td>0.071794</td>\n",
              "      <td>0.667466</td>\n",
              "      <td>1.106502</td>\n",
              "      <td>1.696108</td>\n",
              "    </tr>\n",
              "    <tr>\n",
              "      <th>1990-04-12</th>\n",
              "      <td>5.0</td>\n",
              "      <td>1.122784</td>\n",
              "      <td>0.071304</td>\n",
              "      <td>0.667514</td>\n",
              "      <td>1.099467</td>\n",
              "      <td>1.706728</td>\n",
              "    </tr>\n",
              "    <tr>\n",
              "      <th>1990-04-13</th>\n",
              "      <td>5.0</td>\n",
              "      <td>1.128821</td>\n",
              "      <td>0.070410</td>\n",
              "      <td>0.665494</td>\n",
              "      <td>1.106984</td>\n",
              "      <td>1.711171</td>\n",
              "    </tr>\n",
              "    <tr>\n",
              "      <th>1990-04-14</th>\n",
              "      <td>5.0</td>\n",
              "      <td>1.143374</td>\n",
              "      <td>0.070655</td>\n",
              "      <td>0.666634</td>\n",
              "      <td>1.122597</td>\n",
              "      <td>1.710264</td>\n",
              "    </tr>\n",
              "  </tbody>\n",
              "</table>\n",
              "</div>\n",
              "      <button class=\"colab-df-convert\" onclick=\"convertToInteractive('df-2b99f990-a44e-4595-bf7b-a36838872987')\"\n",
              "              title=\"Convert this dataframe to an interactive table.\"\n",
              "              style=\"display:none;\">\n",
              "        \n",
              "  <svg xmlns=\"http://www.w3.org/2000/svg\" height=\"24px\"viewBox=\"0 0 24 24\"\n",
              "       width=\"24px\">\n",
              "    <path d=\"M0 0h24v24H0V0z\" fill=\"none\"/>\n",
              "    <path d=\"M18.56 5.44l.94 2.06.94-2.06 2.06-.94-2.06-.94-.94-2.06-.94 2.06-2.06.94zm-11 1L8.5 8.5l.94-2.06 2.06-.94-2.06-.94L8.5 2.5l-.94 2.06-2.06.94zm10 10l.94 2.06.94-2.06 2.06-.94-2.06-.94-.94-2.06-.94 2.06-2.06.94z\"/><path d=\"M17.41 7.96l-1.37-1.37c-.4-.4-.92-.59-1.43-.59-.52 0-1.04.2-1.43.59L10.3 9.45l-7.72 7.72c-.78.78-.78 2.05 0 2.83L4 21.41c.39.39.9.59 1.41.59.51 0 1.02-.2 1.41-.59l7.78-7.78 2.81-2.81c.8-.78.8-2.07 0-2.86zM5.41 20L4 18.59l7.72-7.72 1.47 1.35L5.41 20z\"/>\n",
              "  </svg>\n",
              "      </button>\n",
              "      \n",
              "  <style>\n",
              "    .colab-df-container {\n",
              "      display:flex;\n",
              "      flex-wrap:wrap;\n",
              "      gap: 12px;\n",
              "    }\n",
              "\n",
              "    .colab-df-convert {\n",
              "      background-color: #E8F0FE;\n",
              "      border: none;\n",
              "      border-radius: 50%;\n",
              "      cursor: pointer;\n",
              "      display: none;\n",
              "      fill: #1967D2;\n",
              "      height: 32px;\n",
              "      padding: 0 0 0 0;\n",
              "      width: 32px;\n",
              "    }\n",
              "\n",
              "    .colab-df-convert:hover {\n",
              "      background-color: #E2EBFA;\n",
              "      box-shadow: 0px 1px 2px rgba(60, 64, 67, 0.3), 0px 1px 3px 1px rgba(60, 64, 67, 0.15);\n",
              "      fill: #174EA6;\n",
              "    }\n",
              "\n",
              "    [theme=dark] .colab-df-convert {\n",
              "      background-color: #3B4455;\n",
              "      fill: #D2E3FC;\n",
              "    }\n",
              "\n",
              "    [theme=dark] .colab-df-convert:hover {\n",
              "      background-color: #434B5C;\n",
              "      box-shadow: 0px 1px 3px 1px rgba(0, 0, 0, 0.15);\n",
              "      filter: drop-shadow(0px 1px 2px rgba(0, 0, 0, 0.3));\n",
              "      fill: #FFFFFF;\n",
              "    }\n",
              "  </style>\n",
              "\n",
              "      <script>\n",
              "        const buttonEl =\n",
              "          document.querySelector('#df-2b99f990-a44e-4595-bf7b-a36838872987 button.colab-df-convert');\n",
              "        buttonEl.style.display =\n",
              "          google.colab.kernel.accessAllowed ? 'block' : 'none';\n",
              "\n",
              "        async function convertToInteractive(key) {\n",
              "          const element = document.querySelector('#df-2b99f990-a44e-4595-bf7b-a36838872987');\n",
              "          const dataTable =\n",
              "            await google.colab.kernel.invokeFunction('convertToInteractive',\n",
              "                                                     [key], {});\n",
              "          if (!dataTable) return;\n",
              "\n",
              "          const docLinkHtml = 'Like what you see? Visit the ' +\n",
              "            '<a target=\"_blank\" href=https://colab.research.google.com/notebooks/data_table.ipynb>data table notebook</a>'\n",
              "            + ' to learn more about interactive tables.';\n",
              "          element.innerHTML = '';\n",
              "          dataTable['output_type'] = 'display_data';\n",
              "          await google.colab.output.renderOutput(dataTable, element);\n",
              "          const docLink = document.createElement('div');\n",
              "          docLink.innerHTML = docLinkHtml;\n",
              "          element.appendChild(docLink);\n",
              "        }\n",
              "      </script>\n",
              "    </div>\n",
              "  </div>\n",
              "  "
            ]
          },
          "metadata": {},
          "execution_count": 34
        }
      ]
    },
    {
      "cell_type": "code",
      "source": [
        "fig, ax = plt.subplots(1,1, figsize=(12, 4))\n",
        "\n",
        "ch_time_varying_r.loc[:,'Q0.5'].plot(ax=ax, color='red')\n",
        "ax.fill_between(ch_time_varying_r.index, \n",
        "                    ch_time_varying_r['Q0.025'], \n",
        "                    ch_time_varying_r['Q0.975'], \n",
        "                    color='blue', alpha=0.2)\n",
        "ax.set_xlabel('Date')\n",
        "ax.set_ylabel('R(t) with 95%-CI')\n",
        "ax.set_ylim([0,3])\n",
        "ax.axhline(y=1)\n",
        "ax.set_title('Estimate of time-varying effective reproduction number( R_t)')\n",
        "plt.show()"
      ],
      "metadata": {
        "colab": {
          "base_uri": "https://localhost:8080/",
          "height": 302
        },
        "id": "oWIxpzkY8wCh",
        "outputId": "d6e51635-9caa-4bb4-838e-b708e37083bd"
      },
      "execution_count": null,
      "outputs": [
        {
          "output_type": "display_data",
          "data": {
            "text/plain": [
              "<Figure size 864x288 with 1 Axes>"
            ],
            "image/png": "[encoded data removed]"
          },
          "metadata": {
            "needs_background": "light"
          }
        }
      ]
    }
  ]
}