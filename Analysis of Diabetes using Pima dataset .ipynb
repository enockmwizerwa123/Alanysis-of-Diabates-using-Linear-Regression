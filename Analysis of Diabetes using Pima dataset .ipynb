{
 "cells": [
  {
   "cell_type": "code",
   "execution_count": 1,
   "id": "a1586b1d",
   "metadata": {},
   "outputs": [],
   "source": [
    "from  sklearn import datasets, linear_model\n",
    "import numpy as pd\n",
    "import matplotlib.pyplot as plt\n",
    "import seaborn as sn"
   ]
  },
  {
   "cell_type": "code",
   "execution_count": 2,
   "id": "a111eb9d",
   "metadata": {},
   "outputs": [],
   "source": [
    "Data = datasets.load_diabetes()# loading the diabetes dataset"
   ]
  },
  {
   "cell_type": "code",
   "execution_count": 7,
   "id": "0c4f4eed",
   "metadata": {},
   "outputs": [],
   "source": [
    "#Data"
   ]
  },
  {
   "cell_type": "code",
   "execution_count": 5,
   "id": "85a14eb8",
   "metadata": {},
   "outputs": [],
   "source": [
    "Data_x = Data.data[:, pd.newaxis,2]# use one feature for training"
   ]
  },
  {
   "cell_type": "code",
   "execution_count": 6,
   "id": "07477be8",
   "metadata": {},
   "outputs": [],
   "source": [
    "#spliting the data into training and testing sets\n",
    "X_train = Data_x[:-20]\n",
    "X_test = Data_x[-20:]"
   ]
  },
  {
   "cell_type": "code",
   "execution_count": 12,
   "id": "79021b12",
   "metadata": {},
   "outputs": [],
   "source": [
    "#spliting the target into training and testing sets\n",
    "Y_train = Data.target[:-20]\n",
    "Y_test = Data.target[-20:]"
   ]
  },
  {
   "cell_type": "code",
   "execution_count": 9,
   "id": "3180f0ae",
   "metadata": {},
   "outputs": [],
   "source": [
    "regr = linear_model.LinearRegression()#linear regression object"
   ]
  },
  {
   "cell_type": "code",
   "execution_count": 13,
   "id": "c2e48403",
   "metadata": {},
   "outputs": [
    {
     "data": {
      "text/plain": [
       "LinearRegression()"
      ]
     },
     "execution_count": 13,
     "metadata": {},
     "output_type": "execute_result"
    }
   ],
   "source": [
    "regr.fit(X_train,Y_train)# training of model using training sets"
   ]
  },
  {
   "cell_type": "code",
   "execution_count": 17,
   "id": "1bf6f62a",
   "metadata": {},
   "outputs": [],
   "source": [
    "Y_pred = regr.predict(X_test)#prediction using test set"
   ]
  },
  {
   "cell_type": "code",
   "execution_count": 19,
   "id": "a7c3ca3c",
   "metadata": {},
   "outputs": [
    {
     "name": "stdout",
     "output_type": "stream",
     "text": [
      "Prediction output:\n",
      "[225.9732401  115.74763374 163.27610621 114.73638965 120.80385422\n",
      " 158.21988574 236.08568105 121.81509832  99.56772822 123.83758651\n",
      " 204.73711411  96.53399594 154.17490936 130.91629517  83.3878227\n",
      " 171.36605897 137.99500384 137.99500384 189.56845268  84.3990668 ]\n"
     ]
    }
   ],
   "source": [
    "print(\"Prediction output:\")\n",
    "print(Y_pred)"
   ]
  },
  {
   "cell_type": "code",
   "execution_count": 28,
   "id": "889be528",
   "metadata": {},
   "outputs": [
    {
     "data": {
      "image/png": "[encoded data removed]",
      "text/plain": [
       "<Figure size 432x288 with 1 Axes>"
      ]
     },
     "metadata": {
      "needs_background": "light"
     },
     "output_type": "display_data"
    }
   ],
   "source": [
    "# Plot the outputs\n",
    "#plt.figure(figsize=(25,24))\n",
    "plt.scatter(X_test, Y_test, color =\"green\")\n",
    "plt.plot(X_test, Y_pred, color =\"red\", linewidth=2)\n",
    "xlim=range(-1,1)\n",
    "plt.show()"
   ]
  },
  {
   "cell_type": "code",
   "execution_count": null,
   "id": "9c0d51b5",
   "metadata": {},
   "outputs": [],
   "source": []
  }
 ],
 "metadata": {
  "kernelspec": {
   "display_name": "Python 3 (ipykernel)",
   "language": "python",
   "name": "python3"
  },
  "language_info": {
   "codemirror_mode": {
    "name": "ipython",
    "version": 3
   },
   "file_extension": ".py",
   "mimetype": "text/x-python",
   "name": "python",
   "nbconvert_exporter": "python",
   "pygments_lexer": "ipython3",
   "version": "3.9.12"
  }
 },
 "nbformat": 4,
 "nbformat_minor": 5
}
